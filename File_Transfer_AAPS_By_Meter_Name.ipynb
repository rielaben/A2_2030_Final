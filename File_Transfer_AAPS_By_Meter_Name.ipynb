{
 "cells": [
  {
   "cell_type": "markdown",
   "id": "e1f7c787",
   "metadata": {},
   "source": [
    "Step 1: Establish Imports"
   ]
  },
  {
   "cell_type": "code",
   "execution_count": 1,
   "id": "5429f138-63ba-4b3b-b0d1-15441193c59d",
   "metadata": {},
   "outputs": [],
   "source": [
    "import pandas as pd\n",
    "import numpy as np"
   ]
  },
  {
   "cell_type": "markdown",
   "id": "b352f8d9",
   "metadata": {},
   "source": [
    "Teting Reading in Energystar Template"
   ]
  },
  {
   "cell_type": "code",
   "execution_count": 2,
   "id": "70a8b928",
   "metadata": {},
   "outputs": [],
   "source": [
    "energystar_excel_file = \"Empty_AAPS_Template.xlsx\"\n",
    "constellation_data_file = \"AAPS_CONST.xlsx\""
   ]
  },
  {
   "cell_type": "code",
   "execution_count": 3,
   "id": "f6de2f3e",
   "metadata": {},
   "outputs": [],
   "source": [
    "# this funtion performs data cleaning and manipulating tasks for the energystar file\n",
    "# the goal of this is to have a copy of the energystar data as a dataframe and (more importantly) a list of all of the unique meter names\n",
    "# from the energystar excel sheet. We will use this list of unique names later on\n",
    "def read_energystar_data(filename):\n",
    "    read_file = pd.read_excel(filename, sheet_name=None)\n",
    "    # display(read_file.keys())\n",
    "    # print(\"LENGTH: \", len(read_file.items()))\n",
    "    es_data = read_file['Add Bills-Non Electric']\n",
    "    es_data.columns = es_data.columns.str.replace('\\n', ' ')\n",
    "\n",
    "    # display(es_data.columns)\n",
    "\n",
    "    # this gets the first part of the meter name before any commas (sometimes there would be a comma and unnessesary info after this)\n",
    "    es_data[\"Meter Name (Pre-filled)\"] = es_data[\"Meter Name (Pre-filled)\"].str.split(\",\").str[0]\n",
    "    # then we filter this so the name matches our naming convention\n",
    "    es_data[\"Meter Name (Pre-filled)\"] = es_data[\"Meter Name (Pre-filled)\"][es_data[\"Meter Name (Pre-filled)\"].str.contains(\"Constellation__RG-\\d{8}__\\d{10}\") == True]\n",
    "\n",
    "    # regex check on the colestllation ()\n",
    "\n",
    "    # then we consolidate to get a unique list of all the meter names\n",
    "    es_data_meter_names = es_data[\"Meter Name (Pre-filled)\"].unique()\n",
    "    return es_data, es_data_meter_names"
   ]
  },
  {
   "cell_type": "code",
   "execution_count": 4,
   "id": "a8e02fea",
   "metadata": {},
   "outputs": [
    {
     "name": "stderr",
     "output_type": "stream",
     "text": [
      "C:\\Users\\briel\\anaconda3\\lib\\site-packages\\openpyxl\\worksheet\\_reader.py:312: UserWarning: Data Validation extension is not supported and will be removed\n",
      "  warn(msg)\n"
     ]
    },
    {
     "data": {
      "text/plain": [
       "array([nan, 'Constellation__RG-43035769__2420793405',\n",
       "       'Constellation__RG-43035764__4020680140',\n",
       "       'Constellation__RG-43035792__2859310035',\n",
       "       'Constellation__RG-43035790__2429100312',\n",
       "       'Constellation__RG-43035763__2480591620',\n",
       "       'Constellation__RG-43035796__2859710142',\n",
       "       'Constellation__RG-43035780__2477225928',\n",
       "       'Constellation__RG-43035777__2146998387',\n",
       "       'Constellation__RG-43035793__2849410219',\n",
       "       'Constellation__RG-43035775__2156500195',\n",
       "       'Constellation__RG-43035802__2859902146',\n",
       "       'Constellation__RG-43035765__2480692729',\n",
       "       'Constellation__RG-43035785__2488706136',\n",
       "       'Constellation__RG-43035807__2161936262',\n",
       "       'Constellation__RG-43035808__2411935688',\n",
       "       'Constellation__RG-43035782__2428262178',\n",
       "       'Constellation__RG-43035787__4248850022',\n",
       "       'Constellation__RG-43035779__2427107785',\n",
       "       'Constellation__RG-43035766__2420692744',\n",
       "       'Constellation__RG-43035801__2829810387',\n",
       "       'Constellation__RG-43035784__2408706006',\n",
       "       'Constellation__RG-43035791__2839210254',\n",
       "       'Constellation__RG-43035761__2490200012',\n",
       "       'Constellation__RG-43035783__2428262223',\n",
       "       'Constellation__RG-43035773__4021107998',\n",
       "       'Constellation__RG-43035786__2478813330',\n",
       "       'Constellation__RG-43035804__4041422903',\n",
       "       'Constellation__RG-43035800__2829810031',\n",
       "       'Constellation__RG-43035798__2849710279',\n",
       "       'Constellation__RG-43035771__4030925836',\n",
       "       'Constellation__RG-43035772__2410990873',\n",
       "       'Constellation__RG-43035803__2419501017',\n",
       "       'Constellation__RG-43035768__2420793091',\n",
       "       'Constellation__RG-43035797__2849710222',\n",
       "       'Constellation__RG-43035805__2040073457',\n",
       "       'Constellation__RG-43035759__2110022691',\n",
       "       'Constellation__RG-43035774__2431185462',\n",
       "       'Constellation__RG-43035762__2480591618',\n",
       "       'Constellation__RG-43035776__2166740718',\n",
       "       'Constellation__RG-43035799__2829810004',\n",
       "       'Constellation__RG-43035810__2481879089',\n",
       "       'Constellation__RG-43035778__2156998819',\n",
       "       'Constellation__RG-43035767__2420692755',\n",
       "       'Constellation__RG-43035788__4249071094',\n",
       "       'Constellation__RG-43035806__2849710266'], dtype=object)"
      ]
     },
     "metadata": {},
     "output_type": "display_data"
    }
   ],
   "source": [
    "energystar_data, energystar_data_meter_names = read_energystar_data(energystar_excel_file)\n",
    "# display(energystar_data)\n",
    "display(energystar_data_meter_names)"
   ]
  },
  {
   "cell_type": "code",
   "execution_count": 5,
   "id": "e26f2f4e",
   "metadata": {},
   "outputs": [],
   "source": [
    "# this funtion performs data cleaning and manipulating tasks for the constellation file\n",
    "def constellation_file_cleanup(file_name):\n",
    "    const_excel = pd.read_excel(file_name)\n",
    "    # use where function to say if reading is actual of estimated\n",
    "    const_excel['Actual Or Estimated'] = np.where(const_excel['EndReadType'] == \"Actual\", 'No', 'Yes')\n",
    "\n",
    "    # this function converts the constellation MeterNumber column into the Constellation__[CustomerId]__[MeterNumber] format\n",
    "    def name_helper(row):\n",
    "        row_id = str(row['CustomerId'])\n",
    "        row_number = str(row['MeterNumber'])\n",
    "        final_string = f\"Constellation__{row_id}__{row_number}\"\n",
    "        return final_string\n",
    "    const_excel['Const_Meter_ID'] = const_excel.apply(name_helper, axis=1)\n",
    "\n",
    "    # this is a list of dfs, each df holds constellation data for a unique meter in constellation\n",
    "    unique_meter_const = []\n",
    "    for unique_meter_name in const_excel['MeterNumber'].unique():\n",
    "        # display(unique_meter_name)\n",
    "        temp_df = const_excel[const_excel['MeterNumber'] == unique_meter_name]\n",
    "        # display(temp_df)  \n",
    "        unique_meter_const.append(temp_df)\n",
    "\n",
    "    return const_excel, unique_meter_const"
   ]
  },
  {
   "cell_type": "code",
   "execution_count": 6,
   "id": "9f3e38df",
   "metadata": {},
   "outputs": [],
   "source": [
    "constellation_excel, unique_meter_data_from_const = constellation_file_cleanup(constellation_data_file)\n",
    "# display(constellation_excel)\n",
    "# display(constellation_excel.columns)\n",
    "# display(unique_meter_data_from_const[0])"
   ]
  },
  {
   "cell_type": "markdown",
   "id": "6855edd9",
   "metadata": {},
   "source": [
    "This opens the excel file that we can edit directly:"
   ]
  },
  {
   "cell_type": "code",
   "execution_count": 7,
   "id": "d17c882c",
   "metadata": {},
   "outputs": [
    {
     "name": "stderr",
     "output_type": "stream",
     "text": [
      "C:\\Users\\briel\\anaconda3\\lib\\site-packages\\openpyxl\\worksheet\\_reader.py:312: UserWarning: Data Validation extension is not supported and will be removed\n",
      "  warn(msg)\n"
     ]
    },
    {
     "data": {
      "text/plain": [
       "['Instructions',\n",
       " 'Add Bills-Electricity',\n",
       " 'Add Bills-Non Electric',\n",
       " 'Add Bills-Water',\n",
       " 'Add Bills-IT Energy',\n",
       " 'Add Bills-Flow',\n",
       " 'Add Bills-On-Site',\n",
       " 'Add Bills-Delivery',\n",
       " 'Lists',\n",
       " 'Validation',\n",
       " 'Regular Waste Amounts',\n",
       " 'Intermittent Waste',\n",
       " 'Regular Waste-Container']"
      ]
     },
     "metadata": {},
     "output_type": "display_data"
    }
   ],
   "source": [
    "# from openpyxl import Workbook\n",
    "from openpyxl.utils.dataframe import dataframe_to_rows\n",
    "from openpyxl import load_workbook\n",
    "\n",
    "# this function creates an instance of an excel workbook where we can use openpyxl to edit the excel sheet directly\n",
    "def create_es_excel_wb(file_name):\n",
    "    es_workbook = load_workbook(filename=file_name)\n",
    "    display(es_workbook.sheetnames)\n",
    "    # sheet = es_workbook.active\n",
    "    sheet = es_workbook[\"Add Bills-Non Electric\"]\n",
    "    return es_workbook, sheet\n",
    "\n",
    "output_workbook, es_sheet = create_es_excel_wb(energystar_excel_file)"
   ]
  },
  {
   "cell_type": "code",
   "execution_count": 8,
   "id": "3c5bf4f6",
   "metadata": {},
   "outputs": [
    {
     "data": {
      "text/plain": [
       "<Worksheet \"Add Bills-Non Electric\">"
      ]
     },
     "metadata": {},
     "output_type": "display_data"
    },
    {
     "data": {
      "text/plain": [
       "'Add Bills-Non Electric'"
      ]
     },
     "metadata": {},
     "output_type": "display_data"
    }
   ],
   "source": [
    "display(es_sheet)\n",
    "display(es_sheet.title)"
   ]
  },
  {
   "cell_type": "code",
   "execution_count": 9,
   "id": "1dc1d6f2",
   "metadata": {},
   "outputs": [],
   "source": [
    "# for row in es_sheet.iter_rows( max_row=3):\n",
    "#     display([cell.value for cell in row])\n",
    "# display(constellation_excel.columns)"
   ]
  },
  {
   "cell_type": "code",
   "execution_count": 10,
   "id": "b81fa528",
   "metadata": {},
   "outputs": [],
   "source": [
    "# unique_meter_data_from_const.reverse()\n",
    "# display(unique_meter_data_from_const[0])\n",
    "# display(energystar_data_meter_names)"
   ]
  },
  {
   "cell_type": "code",
   "execution_count": 11,
   "id": "1219ec06",
   "metadata": {},
   "outputs": [],
   "source": [
    "# this funtion populates the energystar excel spreadsheet with the data from constellation\n",
    "def populate_spreadsheet(const_dfs, es_meter_names, energystar_pop_sheet):\n",
    "    meters_set = set()\n",
    "    # this set will have all the unique meter names in the spreadsheet\n",
    "    for df in const_dfs:\n",
    "        # const_dfs is a list of dataframes. Each dataframe shows all of the constellation data from a unique meter\n",
    "        # so looping through this list of dataframes lets us examine each unique meter from constellation at a time\n",
    "        # and thus we will be adding this data to the energystar excel sheet with 1 meter from constellation's data at a time\n",
    "        for row in df.iterrows():\n",
    "            # row[0] is other information about the row, row[1] is the data itself\n",
    "            row_data = row[1]\n",
    "\n",
    "            if row_data['Const_Meter_ID'] not in es_meter_names:\n",
    "                # if th constellation meter id is not in the list of energystar meter names, then we skip to the next dataframe\n",
    "                # this means that there is a meter constellation took data on that is not in the energystar database\n",
    "                continue\n",
    "            # else:\n",
    "            #     display(row_data)\n",
    "            # display(row_data['ESPM_Meter_ID'])\n",
    "\n",
    "            # this copies the data for the row from constellation into variables like meter_number\n",
    "            meter_number = row_data['MeterNumber']\n",
    "            customer_id = row_data['CustomerId']\n",
    "            meter_string = f\"Constellation__{customer_id}__{meter_number}\"\n",
    "\n",
    "            start_date = row_data['CycleStartDate']\n",
    "            end_date = row_data['CycleEndDate']\n",
    "            usage = row_data['EndReading'] - row_data['BeginningReading'] #feevolume or diff?\n",
    "            meter_multiplier = row_data['MeterMultiplier']\n",
    "            fee_volume = row_data['FeeVolume']\n",
    "            total_charges = row_data['TotalCharges']\n",
    "            actual_estimated = row_data['Actual Or Estimated']\n",
    "\n",
    "            # start with index 1 because excel isn't 0-based\n",
    "            insert_index = 1\n",
    "            for row in energystar_pop_sheet.iter_rows():\n",
    "                # display(row[4].value)\n",
    "                \n",
    "                # meter_name = str(row[4].value)\n",
    "                meter_name = row[4].value\n",
    "                # for each row in the energystar excel sheet, we first check to see if the energystar \"Meter Name (Pre-filled)\" column matches the constellation meter id\n",
    "                if meter_name == row_data['Const_Meter_ID']:\n",
    "                    # if we the energystar meter name matches the constllation meter name, then we found the right now in the energystar excel sheet and can now inserting the constellation data into this row\n",
    "                    # display([cell.value for cell in row])\n",
    "                    break\n",
    "                else:\n",
    "                    # if the name doesn't match, then we increase the insert index number because it means we need to look at the next row in the energystar table (the meter names didn't match, so we look at the next row in constellation)\n",
    "                    insert_index += 1\n",
    "            \n",
    "            insert_index += 1\n",
    "            # incrememnt the insert index by 1 to put our new row below the row with matching meter names\n",
    "            energystar_pop_sheet.insert_rows(insert_index, amount=1)\n",
    " \n",
    "            # now we enter data into this new row we just created\n",
    "            # there are some rows that are energystar specific (not included in the constellation reports). These are columns A, C, D, F, and J in the excel sheet\n",
    "            # for these we will simply copy the information from the row above, because we know the row above is a valid row that will be accepted into energystar\n",
    "            # The data from constellation that we want to transfer (like start_date, end_date, free_volumne, etc.) we enter into the matching columns in energystar \n",
    "            # (\"Start Date (Required)\", \"End Date (Required)\", \"Quantity (Required)\", etc.)\n",
    "            energystar_pop_sheet.cell(row=insert_index, column=1).value = energystar_pop_sheet[f\"A{insert_index-1}\"].value\n",
    "            # energystar_pop_sheet.cell(row=insert_index, column=2).value = energystar_pop_sheet[f\"B{insert_index-1}\"].value\n",
    "            energystar_pop_sheet.cell(row=insert_index, column=3).value = energystar_pop_sheet[f\"C{insert_index-1}\"].value\n",
    "            energystar_pop_sheet.cell(row=insert_index, column=4).value = energystar_pop_sheet[f\"D{insert_index-1}\"].value\n",
    "\n",
    "            # sheet.cell(row=insert_index, column=5).value = sheet[f\"E{insert_index-1}\"].value\n",
    "            energystar_pop_sheet.cell(row=insert_index, column=5).value = meter_string\n",
    "            energystar_pop_sheet.cell(row=insert_index, column=6).value = energystar_pop_sheet[f\"F{insert_index-1}\"].value\n",
    "            energystar_pop_sheet.cell(row=insert_index, column=7).value = start_date\n",
    "            energystar_pop_sheet.cell(row=insert_index, column=8).value = end_date\n",
    "            energystar_pop_sheet.cell(row=insert_index, column=9).value = fee_volume\n",
    "            energystar_pop_sheet.cell(row=insert_index, column=10).value = energystar_pop_sheet[f\"J{insert_index-1}\"].value\n",
    "            energystar_pop_sheet.cell(row=insert_index, column=11).value = total_charges\n",
    "            energystar_pop_sheet.cell(row=insert_index, column=12).value = actual_estimated\n",
    "\n",
    "            meters_set.add(meter_string)\n",
    "\n",
    "    return (meters_set, energystar_pop_sheet)"
   ]
  },
  {
   "cell_type": "code",
   "execution_count": 12,
   "id": "391e0787",
   "metadata": {},
   "outputs": [],
   "source": [
    "meters_set, es_sheet = populate_spreadsheet(unique_meter_data_from_const, energystar_data_meter_names, es_sheet)"
   ]
  },
  {
   "cell_type": "code",
   "execution_count": 13,
   "id": "7c6ef602",
   "metadata": {},
   "outputs": [],
   "source": [
    "# uncomment below if you want to write all of the meter names as a set and export the file:\n",
    "\n",
    "# import json\n",
    "# with open('meter_set.txt', 'w') as f:\n",
    "#     f.write(str(meters_set))"
   ]
  },
  {
   "cell_type": "code",
   "execution_count": 14,
   "id": "0ec1544a",
   "metadata": {},
   "outputs": [],
   "source": [
    "# output_workbook.save(filename=\"old_meters_output_file.xlsx\")"
   ]
  },
  {
   "cell_type": "code",
   "execution_count": 15,
   "id": "f178d685",
   "metadata": {},
   "outputs": [
    {
     "data": {
      "text/plain": [
       "['Meter ID\\n(Pre-filled)',\n",
       " 'Meter Consumption ID\\n(Pre-filled)',\n",
       " 'Portfolio Manager ID\\n(Pre-filled)',\n",
       " 'Property  Name\\n(Pre-filled)',\n",
       " 'Meter Name\\n(Pre-filled)',\n",
       " 'Meter Type\\n(Pre-filled)',\n",
       " 'Start Date\\n(Required)',\n",
       " 'End Date\\n(Required)',\n",
       " 'Quantity\\n(Required)',\n",
       " 'Meter Unit\\n(Pre-filled)',\n",
       " 'Cost\\n(Optional)',\n",
       " 'Estimation (Required)']"
      ]
     },
     "metadata": {},
     "output_type": "display_data"
    },
    {
     "data": {
      "text/plain": [
       "[124854000,\n",
       " 5743104900,\n",
       " 19516722,\n",
       " 'Copy of Abbot Elementary',\n",
       " '000680140',\n",
       " 'Natural Gas',\n",
       " 'Last Bill 11/3/2021',\n",
       " '12/3/2021',\n",
       " 118,\n",
       " 'therms',\n",
       " 0,\n",
       " 'No']"
      ]
     },
     "metadata": {},
     "output_type": "display_data"
    },
    {
     "data": {
      "text/plain": [
       "[124854000,\n",
       " None,\n",
       " 19516722,\n",
       " 'Copy of Abbot Elementary',\n",
       " '000680140',\n",
       " 'Natural Gas',\n",
       " None,\n",
       " None,\n",
       " None,\n",
       " 'therms',\n",
       " None,\n",
       " None]"
      ]
     },
     "metadata": {},
     "output_type": "display_data"
    }
   ],
   "source": [
    "for row in es_sheet.iter_rows(min_row=1, max_row=3):\n",
    "    display([cell.value for cell in row])\n",
    "    # display(row[4].value)"
   ]
  },
  {
   "cell_type": "code",
   "execution_count": 16,
   "id": "50f3a3f2",
   "metadata": {},
   "outputs": [],
   "source": [
    "# this funtion deletes rows from the excel sheet that do not start with the standardized naming convention of:\n",
    "# \"Constellation__[CustomerId]__[MeterNumber]__[Meter Description]\", with the __[Meter Description] part being optional\n",
    "def delete_idxs(populated_sheet):\n",
    "    delete_idxs = []\n",
    "    # this is a list containing all of the indexes of rows that don't start with \"Constellation__RG-\"\n",
    "    # we will delete all the rows with this index later\n",
    "    d_idx = 1\n",
    "    for row in populated_sheet.iter_rows():\n",
    "        # iterate through all rows of the populated excel sheet\n",
    "        meter_name = str(row[4].value)\n",
    "        # extract the value from the \"Meter Name (Pre-filled)\" column\n",
    "        if not meter_name.startswith(\"Constellation__RG-\"):\n",
    "            # if the meter name does not start with \"Constellation__RG-\" (for example 009300523), then we add this index to the list\n",
    "            delete_idxs.append(d_idx)\n",
    "        d_idx += 1\n",
    "    delete_idxs.reverse()\n",
    "    # now we reverse the list so we are deleting bottom-up\n",
    "    delete_idxs = delete_idxs[:-1]\n",
    "    # exclude the row with column headers (\"Meter ID (Pre-filled)\", \"Meter Consumption ID (Pre-filled)\", \"Portfolio Manager ID, (Pre-filled)\", etc.)\n",
    "    # display(delete_idxs)\n",
    "    for idx in delete_idxs:\n",
    "        # for each index, in this list, we delete the row with that index\n",
    "        populated_sheet.delete_rows(idx, amount=1)\n",
    "\n",
    "    return"
   ]
  },
  {
   "cell_type": "code",
   "execution_count": 17,
   "id": "2864ec4b",
   "metadata": {},
   "outputs": [],
   "source": [
    "es_sheet = delete_idxs(es_sheet)"
   ]
  },
  {
   "cell_type": "code",
   "execution_count": 18,
   "id": "2d976dcf",
   "metadata": {},
   "outputs": [],
   "source": [
    "output_workbook.save(filename=\"Output_file.xlsx\")"
   ]
  },
  {
   "cell_type": "code",
   "execution_count": 19,
   "id": "9191c5af",
   "metadata": {},
   "outputs": [],
   "source": [
    "# delete_idxs = []\n",
    "# d_idx = 1\n",
    "# for row in es_sheet.iter_rows():\n",
    "#     if not str(row[4].value).startswith(\"Constellation__RG-\"):\n",
    "#         delete_idxs.append(d_idx)\n",
    "#     d_idx += 1\n",
    "# delete_idxs.reverse()\n",
    "# delete_idxs = delete_idxs[:-1]\n",
    "# display(delete_idxs)\n",
    "\n",
    "# for idx in delete_idxs:\n",
    "#     es_sheet.delete_rows(idx, amount=1)"
   ]
  },
  {
   "cell_type": "code",
   "execution_count": 20,
   "id": "390d2a76",
   "metadata": {},
   "outputs": [],
   "source": [
    "# meters_set = set()\n",
    "# for df in unique_meter_data_from_const:\n",
    "#     # aka for each unique meter in constellation:\n",
    "#     for row in df.iterrows():\n",
    "#         row_data = row[1]\n",
    "#         # display(row_data)\n",
    "\n",
    "#         # meter_num = row_data['MeterNumber']\n",
    "#         # display(row_data['Const_Meter_ID'])\n",
    "\n",
    "#         # display(type(row_data['ESPM_Meter_ID']))\n",
    "\n",
    "#         if row_data['Const_Meter_ID'] not in energystar_data_meter_names:\n",
    "#             continue\n",
    "#         # else:\n",
    "#         #     display(row_data)\n",
    "\n",
    "#         # display(row_data['ESPM_Meter_ID'])\n",
    "\n",
    "#         meter_number = row_data['MeterNumber']\n",
    "#         customer_id = row_data['CustomerId']\n",
    "#         meter_string = f\"Constellation__{customer_id}__{meter_number}\"\n",
    "\n",
    "#         start_date = row_data['CycleStartDate']\n",
    "#         end_date = row_data['CycleEndDate']\n",
    "#         usage = row_data['EndReading'] - row_data['BeginningReading'] #feevolume or diff?\n",
    "#         meter_multiplier = row_data['MeterMultiplier']\n",
    "#         fee_volume = row_data['FeeVolume']\n",
    "#         total_charges = row_data['TotalCharges']\n",
    "#         actual_estimated = row_data['Actual Or Estimated']\n",
    "\n",
    "\n",
    "#         insert_index = 1\n",
    "#         for row in es_sheet.iter_rows():\n",
    "#             # display(row[4].value)\n",
    "#             if row[4].value == row_data['Const_Meter_ID']:\n",
    "#                 # print(\"FOUND\")\n",
    "#                 # # sheet.insert_rows(count, amount=1)\n",
    "#                 # display([cell.value for cell in row])\n",
    "#                 break\n",
    "#             else:\n",
    "#                 insert_index += 1\n",
    "        \n",
    "#         insert_index += 1\n",
    "#         # print(\"INSERT INDEX\", insert_index)\n",
    "#         es_sheet.insert_rows(insert_index, amount=1)\n",
    "\n",
    "#         es_sheet.cell(row=insert_index, column=1).value = es_sheet[f\"A{insert_index-1}\"].value\n",
    "#         # es_sheet.cell(row=insert_index, column=2).value = es_sheet[f\"B{insert_index-1}\"].value\n",
    "#         es_sheet.cell(row=insert_index, column=3).value = es_sheet[f\"C{insert_index-1}\"].value\n",
    "#         es_sheet.cell(row=insert_index, column=4).value = es_sheet[f\"D{insert_index-1}\"].value\n",
    "\n",
    "#         # sheet.cell(row=insert_index, column=5).value = sheet[f\"E{insert_index-1}\"].value\n",
    "#         es_sheet.cell(row=insert_index, column=5).value = meter_string\n",
    "#         meters_set.add(meter_string)\n",
    "\n",
    "#         es_sheet.cell(row=insert_index, column=6).value = es_sheet[f\"F{insert_index-1}\"].value\n",
    "#         es_sheet.cell(row=insert_index, column=7).value = start_date\n",
    "#         es_sheet.cell(row=insert_index, column=8).value = end_date\n",
    "#         es_sheet.cell(row=insert_index, column=9).value = usage\n",
    "#         es_sheet.cell(row=insert_index, column=10).value = es_sheet[f\"J{insert_index-1}\"].value\n",
    "#         es_sheet.cell(row=insert_index, column=11).value = total_charges\n",
    "#         es_sheet.cell(row=insert_index, column=12).value = actual_estimated"
   ]
  },
  {
   "cell_type": "code",
   "execution_count": 21,
   "id": "6426c466",
   "metadata": {},
   "outputs": [],
   "source": [
    "# final_workbook, final_sheet = create_es_excel_wb(\"ESPM/Empty ESPM Template.xlsx\")"
   ]
  },
  {
   "cell_type": "code",
   "execution_count": 22,
   "id": "cb656553",
   "metadata": {},
   "outputs": [],
   "source": [
    "# display(final_workbook)\n",
    "# display(final_sheet)\n",
    "# display(final_sheet.title)"
   ]
  },
  {
   "cell_type": "code",
   "execution_count": 23,
   "id": "6344d2fa",
   "metadata": {},
   "outputs": [],
   "source": [
    "# max_row_input = es_sheet.max_row\n",
    "# mac_col_input = es_sheet.max_column\n",
    "  \n",
    "# # copying the cell values from source \n",
    "# # excel file to destination excel file\n",
    "# for i in range (1, max_row_input + 1):\n",
    "#     for j in range (1, mac_col_input + 1):\n",
    "#         # reading cell value from source excel file\n",
    "#         cell = es_sheet.cell(row = i, column = j)\n",
    "  \n",
    "#         # writing the read value to destination excel file\n",
    "#         final_sheet.cell(row = i, column = j).value = cell.value"
   ]
  },
  {
   "cell_type": "code",
   "execution_count": 24,
   "id": "ccf48125",
   "metadata": {},
   "outputs": [],
   "source": [
    "# output_workbook.save(filename=\"ESPM/AAPS_Cleaned_Rows2.xlsx\")"
   ]
  },
  {
   "cell_type": "code",
   "execution_count": 25,
   "id": "9eaa7598",
   "metadata": {},
   "outputs": [],
   "source": [
    "# es_sheet.insert_rows(insert_index, amount=1)"
   ]
  },
  {
   "cell_type": "code",
   "execution_count": 26,
   "id": "7ba1bab2",
   "metadata": {},
   "outputs": [],
   "source": [
    "# x = 'Constellation__RG-43035769__2420793405'\n",
    "# x.startswith(\"Constellation__RG\")"
   ]
  },
  {
   "cell_type": "code",
   "execution_count": 27,
   "metadata": {},
   "outputs": [],
   "source": [
    "# es_sheet.insert_rows(insert_index, amount=1)"
   ]
  },
  {
   "cell_type": "code",
   "execution_count": 28,
   "id": "9ad6ea99",
   "metadata": {},
   "outputs": [],
   "source": [
    "# this section was old from the fake Rosetta Stone Holy Grail Bible file:\n",
    "\n",
    "# const_to_portfolio_id = pd.read_csv(\"Consetllation/const_to_portfolio_id.tsv\", header=None, sep='\\t')\n",
    "# const_to_portfolio_id.columns = [\"Constellation_Customer_ID_Meter_ID\", \"ESPM_Meter_ID\"]\n",
    "\n",
    "# const_to_portfolio_id\n",
    "\n",
    "# const_to_portfolio_id['Meter_ID'] = const_to_portfolio_id['Constellation_Customer_ID_Meter_ID'].str.split(\"__\", expand=True)[2]\n",
    "\n",
    "# const_to_portfolio_id.dtypes\n",
    "\n",
    "# const_to_portfolio_id['Meter_ID'] = const_to_portfolio_id['Meter_ID'].astype(\"int\")\n",
    "\n",
    "# const_to_portfolio_id['Meter_ID'] = pd.to_numeric(const_to_portfolio_id['Meter_ID'])\n",
    "\n",
    "# const_to_portfolio_id.dtypes\n",
    "\n",
    "# const_to_portfolio_id\n",
    "\n",
    "# merged_constellation = pd.merge(constellation_excel, const_to_portfolio_id, left_on=\"MeterNumber\", right_on=\"Meter_ID\")\n",
    "\n",
    "# merged_constellation\n",
    "\n",
    "# unique_espm_meter_ids_from_const = []\n",
    "\n",
    "# for unique_meter_name in merged_constellation['ESPM_Meter_ID'].unique():\n",
    "#     display(unique_meter_name)\n",
    "#     temp_df = merged_constellation[merged_constellation['ESPM_Meter_ID'] == unique_meter_name]\n",
    "#     # display(temp_df)\n",
    "#     unique_espm_meter_ids_from_const.append(temp_df)"
   ]
  },
  {
   "cell_type": "code",
   "execution_count": 29,
   "id": "3a3b1a78",
   "metadata": {},
   "outputs": [],
   "source": [
    "# unique_meter_data_from_const = []\n",
    "\n",
    "# for unique_meter_name in constellation_excel['MeterNumber'].unique():\n",
    "#     # display(unique_meter_name)\n",
    "#     temp_df = constellation_excel[constellation_excel['MeterNumber'] == unique_meter_name]\n",
    "#     # display(temp_df)\n",
    "#     # if unique_meter_name.startswith(\"Constellation__RG\"):   \n",
    "#     unique_meter_data_from_const.append(temp_df)\n",
    "#         # unique_meter_names_from_const.append(unique_meter_name)\n",
    "\n",
    "\n",
    "# unique_meter_data_from_const[0]\n",
    "# # Meter Name\\n(Pre-filled)\n",
    "# # unique_espm_meter_ids_from_const"
   ]
  },
  {
   "cell_type": "code",
   "execution_count": 30,
   "id": "78b441e1",
   "metadata": {},
   "outputs": [],
   "source": [
    "# constellation_excel.columns\n",
    "\n",
    "# def name_helper(row):\n",
    "#     row_id = str(row['CustomerId'])\n",
    "#     row_number = str(row['MeterNumber'])\n",
    "#     final_string = f\"Constellation__{row_id}__{row_number}\"\n",
    "#     return final_string\n",
    "\n",
    "# constellation_excel['Const_Meter_ID'] = constellation_excel.apply(name_helper, axis=1)\n",
    "# constellation_excel"
   ]
  },
  {
   "cell_type": "code",
   "execution_count": 31,
   "id": "c7ddae09",
   "metadata": {},
   "outputs": [],
   "source": [
    "# from openpyxl import Workbook\n",
    "# from openpyxl.utils.dataframe import dataframe_to_rows\n",
    "# from openpyxl import load_workbook\n",
    "\n",
    "# output_workbook = load_workbook(filename=\"ESPM/Test_3_8_22/Add_Bills_to_Meters NEW Naming AAPS Meters.xlsx\")\n",
    "# display(output_workbook.sheetnames)\n",
    "\n",
    "# sheet = output_workbook.active\n",
    "# display(sheet)\n",
    "# display(sheet.title)\n",
    "\n",
    "# for row in sheet.iter_rows():\n",
    "#     print(row[4].value)\n",
    "\n",
    "# for row in sheet.iter_rows( max_row=6):\n",
    "#     display([cell.value for cell in row])"
   ]
  },
  {
   "cell_type": "code",
   "execution_count": 32,
   "id": "1aef2721",
   "metadata": {},
   "outputs": [],
   "source": [
    "# energystar_data.columns = energystar_data.columns.str.replace('\\n', ' ')\n",
    "# display(energystar_data.columns)\n",
    "# display(energystar_data)\n",
    "# # energystar_data_meter_names = energystar_data[\"Meter Name (Pre-filled)\"]\n",
    "# energystar_data[\"Meter Name (Pre-filled)\"] = energystar_data[\"Meter Name (Pre-filled)\"].str.split(\",\").str[0]\n",
    "# energystar_data[\"Meter Name (Pre-filled)\"] = energystar_data[\"Meter Name (Pre-filled)\"][energystar_data[\"Meter Name (Pre-filled)\"].str.contains(\"Constellation__RG-\\d{8}__\\d{10}\") == True]\n",
    "# energystar_data_meter_names = energystar_data[\"Meter Name (Pre-filled)\"].unique()\n",
    "# display(energystar_data_meter_names)"
   ]
  },
  {
   "cell_type": "code",
   "execution_count": 33,
   "id": "f3160541",
   "metadata": {},
   "outputs": [],
   "source": [
    "# energystar_excel = pd.read_excel(\"ESPM/Test_3_8_22/Add_Bills_to_Meters NEW Naming AAPS Meters.xlsx\", sheet_name=None)\n",
    "# # energystar_excel = pd.read_excel(\"ESPM/AAPS Upload TemplateTest_2-17-2022.xlsx\", sheet_name=None)\n",
    "# display(energystar_excel.keys())\n",
    "# print(\"LENGTH: \", len(energystar_excel.items()))\n",
    "# energystar_data = energystar_excel['Add Bills-Non Electric']\n",
    "# display(energystar_data)"
   ]
  }
 ],
 "metadata": {
  "kernelspec": {
   "display_name": "Python 3",
   "language": "python",
   "name": "python3"
  },
  "language_info": {
   "codemirror_mode": {
    "name": "ipython",
    "version": 3
   },
   "file_extension": ".py",
   "mimetype": "text/x-python",
   "name": "python",
   "nbconvert_exporter": "python",
   "pygments_lexer": "ipython3",
   "version": "3.8.8"
  }
 },
 "nbformat": 4,
 "nbformat_minor": 5
}
