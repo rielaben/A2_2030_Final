{
 "cells": [
  {
   "cell_type": "markdown",
   "metadata": {},
   "source": [
    "# Testing and Validating for AA2030 Python pipeline"
   ]
  },
  {
   "cell_type": "code",
   "execution_count": 1,
   "metadata": {},
   "outputs": [],
   "source": [
    "import pandas as pd\n",
    "import numpy as np\n",
    "import datetime"
   ]
  },
  {
   "cell_type": "markdown",
   "metadata": {},
   "source": [
    "Put in the file name here of the constellation data."
   ]
  },
  {
   "cell_type": "code",
   "execution_count": 2,
   "metadata": {},
   "outputs": [],
   "source": [
    "#const = pd.read_excel('AAPS_CONST.xlsx')\n",
    "const = pd.read_excel('Constellation_Excel_input\\APPS_CONST_3.31.2022.xlsx')"
   ]
  },
  {
   "cell_type": "markdown",
   "metadata": {},
   "source": [
    "Put in the file name here of the ESPM upload template."
   ]
  },
  {
   "cell_type": "code",
   "execution_count": 3,
   "metadata": {},
   "outputs": [],
   "source": [
    "#up = pd.read_excel('AAPS_Cleaned_Rows1.xlsx', 'Add Bills-Non Electric')\n",
    "up = pd.read_excel('Output.xlsx', 'Add Bills-Non Electric')"
   ]
  },
  {
   "cell_type": "code",
   "execution_count": 4,
   "metadata": {},
   "outputs": [],
   "source": [
    "#separating out the constellation meter name from our upload sheet to compare row data from const sheet\n",
    "up['const_customer_id'] = up['Meter Name\\n(Pre-filled)'].str.split('__', expand=True)[1]\n",
    "up['const_meter_number'] = up['Meter Name\\n(Pre-filled)'].str.split('__', expand=True)[2].astype('int64')"
   ]
  },
  {
   "cell_type": "code",
   "execution_count": 5,
   "metadata": {},
   "outputs": [
    {
     "data": {
      "text/plain": [
       "44"
      ]
     },
     "execution_count": 5,
     "metadata": {},
     "output_type": "execute_result"
    }
   ],
   "source": [
    "len(up['const_meter_number'].unique())"
   ]
  },
  {
   "cell_type": "code",
   "execution_count": 6,
   "metadata": {},
   "outputs": [
    {
     "data": {
      "text/plain": [
       "54"
      ]
     },
     "execution_count": 6,
     "metadata": {},
     "output_type": "execute_result"
    }
   ],
   "source": [
    "len(const['MeterNumber'].unique())\n",
    "#7 more meters in const then in upload for aaps, due to unfinished school mapping\n",
    "#52 more meters for the city, due to unfinished mapping and lots of meters are electric"
   ]
  },
  {
   "cell_type": "code",
   "execution_count": 7,
   "metadata": {},
   "outputs": [
    {
     "data": {
      "text/plain": [
       "43"
      ]
     },
     "execution_count": 7,
     "metadata": {},
     "output_type": "execute_result"
    }
   ],
   "source": [
    "#great meters are the meters represented in both the constellation input and in our upload template\n",
    "great_meters = list(set(const['MeterNumber']) & set(up['const_meter_number']))\n",
    "len(great_meters)"
   ]
  },
  {
   "cell_type": "code",
   "execution_count": 8,
   "metadata": {},
   "outputs": [
    {
     "data": {
      "text/plain": [
       "{248907587}"
      ]
     },
     "execution_count": 8,
     "metadata": {},
     "output_type": "execute_result"
    }
   ],
   "source": [
    "#looking at which meter is in great meters but not in the constellation input\n",
    "set(up['const_meter_number'].unique()) - set(great_meters)\n",
    "#I think this meter is getting messed up bc our upload version is missing it's 10th digit! (6)"
   ]
  },
  {
   "cell_type": "code",
   "execution_count": 9,
   "metadata": {},
   "outputs": [
    {
     "name": "stdout",
     "output_type": "stream",
     "text": [
      "2022-02-08 00:00:00 2022-02-08 00:00:00\n",
      "2022-01-26 00:00:00 2022-01-26 00:00:00\n",
      "2022-01-22 00:00:00 2022-01-22 00:00:00\n",
      "2022-01-21 00:00:00 2022-01-21 00:00:00\n",
      "2021-10-19 00:00:00 2021-10-19 00:00:00\n",
      "2022-01-06 00:00:00 2022-01-06 00:00:00\n",
      "2022-01-19 00:00:00 2022-01-19 00:00:00\n",
      "2022-01-11 00:00:00 2022-01-11 00:00:00\n",
      "2022-01-04 00:00:00 2022-01-04 00:00:00\n",
      "2022-01-19 00:00:00 2022-01-19 00:00:00\n",
      "2022-01-08 00:00:00 2022-01-08 00:00:00\n",
      "2022-01-06 00:00:00 2022-01-06 00:00:00\n",
      "2022-02-01 00:00:00 2022-02-01 00:00:00\n",
      "2022-01-22 00:00:00 2022-01-22 00:00:00\n",
      "2022-01-25 00:00:00 2022-01-25 00:00:00\n",
      "2022-01-29 00:00:00 2022-01-29 00:00:00\n",
      "2022-01-22 00:00:00 2022-01-22 00:00:00\n",
      "2022-01-24 00:00:00 2022-01-24 00:00:00\n",
      "2022-01-15 00:00:00 2022-01-15 00:00:00\n",
      "2022-01-05 00:00:00 2022-01-05 00:00:00\n",
      "2022-01-22 00:00:00 2022-01-22 00:00:00\n",
      "2022-01-13 00:00:00 2022-01-13 00:00:00\n",
      "2022-01-14 00:00:00 2022-01-14 00:00:00\n",
      "2022-01-21 00:00:00 2022-01-21 00:00:00\n",
      "2020-10-22 00:00:00 2020-10-22 00:00:00\n",
      "2022-01-08 00:00:00 2022-01-08 00:00:00\n",
      "2022-01-12 00:00:00 2022-01-12 00:00:00\n",
      "2022-02-02 00:00:00 2022-02-02 00:00:00\n",
      "2022-01-26 00:00:00 2022-01-26 00:00:00\n",
      "2022-01-19 00:00:00 2022-01-19 00:00:00\n",
      "2022-01-16 00:00:00 2022-01-16 00:00:00\n",
      "2022-01-11 00:00:00 2022-01-11 00:00:00\n",
      "2022-01-19 00:00:00 2022-01-19 00:00:00\n",
      "2021-12-23 00:00:00 2021-12-23 00:00:00\n",
      "2022-01-26 00:00:00 2022-01-26 00:00:00\n",
      "2022-01-19 00:00:00 2022-01-19 00:00:00\n",
      "2020-10-22 00:00:00 2020-10-22 00:00:00\n",
      "2022-01-11 00:00:00 2022-01-11 00:00:00\n",
      "2022-01-15 00:00:00 2022-01-15 00:00:00\n",
      "2022-01-25 00:00:00 2022-01-25 00:00:00\n",
      "2022-02-04 00:00:00 2022-02-04 00:00:00\n",
      "2022-01-19 00:00:00 2022-01-19 00:00:00\n",
      "2022-01-14 00:00:00 2022-01-14 00:00:00\n"
     ]
    }
   ],
   "source": [
    "#now actually iterating through meter data to validate that info is lining up\n",
    "for meter in great_meters:\n",
    "    #grabbing relevant rows from each spreadsheet that have the same meter number\n",
    "    #grabbing last occurence to get most recent bill data\n",
    "    const_row = const.loc[const['MeterNumber'] == meter].iloc[-1]\n",
    "    #grabbing 2nd occurence to get most recent billing data\n",
    "    up_row = up.loc[up['const_meter_number'] == meter].iloc[1]\n",
    "    \n",
    "    #asserting that the row values are the same between the sheets\n",
    "    assert const_row['CustomerId'] == up_row['const_customer_id'], f\"Customer ID mismatch, {meter}\"\n",
    "    #asserting that most recent bill data has correct cycle start date\n",
    "    print(const_row['CycleStartDate'], up_row['Start Date\\n(Required)'])\n",
    "    assert const_row['CycleStartDate'] == up_row['Start Date\\n(Required)'], f\"Start Date mismatch, {meter}\"\n",
    "    #asserting that most recent bill data has correct cycle end date\n",
    "    assert const_row['CycleEndDate'] == up_row['End Date\\n(Required)'], f\"End Date mismatch, {meter}\"\n",
    "    #asserting that most recent bill data has correct quantity\n",
    "    assert const_row['FeeVolume'] == up_row['Quantity\\n(Required)'], f\"Quantity mismatch, {meter}\"\n",
    "    #checking if estimation value is correct \n",
    "    if const_row['EndReadType'] == 'Actual':\n",
    "        assert up_row['Estimation (Required)'] == 'No'\n",
    "    if const_row['EndReadType'] == 'Estimate':\n",
    "        assert up_row['Estimation (Required)'] == 'Yes'    \n",
    "    #asserting that most recent bill data has correct cost, need to manually go over NaNs\n",
    "    if np.isnan(const_row['TotalCharges']) & np.isnan(up_row['Cost\\n(Optional)']):\n",
    "        continue\n",
    "        assert const_row['TotalCharges'] == up_row['Cost\\n(Optional)'], f\"Cost mismatch, {meter}\"\n",
    "        "
   ]
  },
  {
   "cell_type": "markdown",
   "metadata": {},
   "source": [
    "## Part 2: Sanity Checks "
   ]
  },
  {
   "cell_type": "code",
   "execution_count": 10,
   "metadata": {},
   "outputs": [
    {
     "data": {
      "text/html": [
       "<div>\n",
       "<style scoped>\n",
       "    .dataframe tbody tr th:only-of-type {\n",
       "        vertical-align: middle;\n",
       "    }\n",
       "\n",
       "    .dataframe tbody tr th {\n",
       "        vertical-align: top;\n",
       "    }\n",
       "\n",
       "    .dataframe thead th {\n",
       "        text-align: right;\n",
       "    }\n",
       "</style>\n",
       "<table border=\"1\" class=\"dataframe\">\n",
       "  <thead>\n",
       "    <tr style=\"text-align: right;\">\n",
       "      <th></th>\n",
       "      <th>Meter ID\\n(Pre-filled)</th>\n",
       "      <th>Meter Consumption ID\\n(Pre-filled)</th>\n",
       "      <th>Portfolio Manager ID\\n(Pre-filled)</th>\n",
       "      <th>Property  Name\\n(Pre-filled)</th>\n",
       "      <th>Meter Name\\n(Pre-filled)</th>\n",
       "      <th>Meter Type\\n(Pre-filled)</th>\n",
       "      <th>Start Date\\n(Required)</th>\n",
       "      <th>End Date\\n(Required)</th>\n",
       "      <th>Quantity\\n(Required)</th>\n",
       "      <th>Meter Unit\\n(Pre-filled)</th>\n",
       "      <th>Cost\\n(Optional)</th>\n",
       "      <th>Estimation (Required)</th>\n",
       "      <th>const_customer_id</th>\n",
       "      <th>const_meter_number</th>\n",
       "    </tr>\n",
       "  </thead>\n",
       "  <tbody>\n",
       "    <tr>\n",
       "      <th>0</th>\n",
       "      <td>129002335</td>\n",
       "      <td>NaN</td>\n",
       "      <td>5227</td>\n",
       "      <td>King Elementary</td>\n",
       "      <td>Constellation__RG-43035783__2428262223</td>\n",
       "      <td>Natural Gas</td>\n",
       "      <td>NaT</td>\n",
       "      <td>NaT</td>\n",
       "      <td>NaN</td>\n",
       "      <td>ccf (hundred cubic feet)</td>\n",
       "      <td>NaN</td>\n",
       "      <td>NaN</td>\n",
       "      <td>RG-43035783</td>\n",
       "      <td>2428262223</td>\n",
       "    </tr>\n",
       "    <tr>\n",
       "      <th>1</th>\n",
       "      <td>129002335</td>\n",
       "      <td>NaN</td>\n",
       "      <td>5227</td>\n",
       "      <td>King Elementary</td>\n",
       "      <td>Constellation__RG-43035783__2428262223</td>\n",
       "      <td>Natural Gas</td>\n",
       "      <td>2022-01-26</td>\n",
       "      <td>2022-02-24</td>\n",
       "      <td>8530.0</td>\n",
       "      <td>ccf (hundred cubic feet)</td>\n",
       "      <td>4697.51</td>\n",
       "      <td>No</td>\n",
       "      <td>RG-43035783</td>\n",
       "      <td>2428262223</td>\n",
       "    </tr>\n",
       "  </tbody>\n",
       "</table>\n",
       "</div>"
      ],
      "text/plain": [
       "   Meter ID\\n(Pre-filled)  Meter Consumption ID\\n(Pre-filled)  \\\n",
       "0               129002335                                 NaN   \n",
       "1               129002335                                 NaN   \n",
       "\n",
       "   Portfolio Manager ID\\n(Pre-filled) Property  Name\\n(Pre-filled)  \\\n",
       "0                                5227              King Elementary   \n",
       "1                                5227              King Elementary   \n",
       "\n",
       "                 Meter Name\\n(Pre-filled) Meter Type\\n(Pre-filled)  \\\n",
       "0  Constellation__RG-43035783__2428262223              Natural Gas   \n",
       "1  Constellation__RG-43035783__2428262223              Natural Gas   \n",
       "\n",
       "  Start Date\\n(Required) End Date\\n(Required)  Quantity\\n(Required)  \\\n",
       "0                    NaT                  NaT                   NaN   \n",
       "1             2022-01-26           2022-02-24                8530.0   \n",
       "\n",
       "   Meter Unit\\n(Pre-filled)  Cost\\n(Optional) Estimation (Required)  \\\n",
       "0  ccf (hundred cubic feet)               NaN                   NaN   \n",
       "1  ccf (hundred cubic feet)           4697.51                    No   \n",
       "\n",
       "  const_customer_id  const_meter_number  \n",
       "0       RG-43035783          2428262223  \n",
       "1       RG-43035783          2428262223  "
      ]
     },
     "execution_count": 10,
     "metadata": {},
     "output_type": "execute_result"
    }
   ],
   "source": [
    "up.head(2)"
   ]
  },
  {
   "cell_type": "code",
   "execution_count": 11,
   "metadata": {},
   "outputs": [
    {
     "data": {
      "text/html": [
       "<div>\n",
       "<style scoped>\n",
       "    .dataframe tbody tr th:only-of-type {\n",
       "        vertical-align: middle;\n",
       "    }\n",
       "\n",
       "    .dataframe tbody tr th {\n",
       "        vertical-align: top;\n",
       "    }\n",
       "\n",
       "    .dataframe thead th {\n",
       "        text-align: right;\n",
       "    }\n",
       "</style>\n",
       "<table border=\"1\" class=\"dataframe\">\n",
       "  <thead>\n",
       "    <tr style=\"text-align: right;\">\n",
       "      <th></th>\n",
       "      <th>Entity</th>\n",
       "      <th>CustomerId</th>\n",
       "      <th>MeterNumber</th>\n",
       "      <th>street</th>\n",
       "      <th>ProdMonth</th>\n",
       "      <th>EndReadType</th>\n",
       "      <th>CycleStartDate</th>\n",
       "      <th>CycleEndDate</th>\n",
       "      <th>BeginningReading</th>\n",
       "      <th>EndReading</th>\n",
       "      <th>MeterMultiplier</th>\n",
       "      <th>FeeVolume</th>\n",
       "      <th>TotalCharges</th>\n",
       "    </tr>\n",
       "  </thead>\n",
       "  <tbody>\n",
       "    <tr>\n",
       "      <th>0</th>\n",
       "      <td>Ann Arbor Public Schools</td>\n",
       "      <td>RG-43035759</td>\n",
       "      <td>2110022691</td>\n",
       "      <td>2555 S STATE ST</td>\n",
       "      <td>2020-11-01</td>\n",
       "      <td>Actual</td>\n",
       "      <td>2020-10-24</td>\n",
       "      <td>2020-11-24</td>\n",
       "      <td>922156</td>\n",
       "      <td>938752</td>\n",
       "      <td>1.1195</td>\n",
       "      <td>18139.0</td>\n",
       "      <td>9679.92</td>\n",
       "    </tr>\n",
       "    <tr>\n",
       "      <th>1</th>\n",
       "      <td>Ann Arbor Public Schools</td>\n",
       "      <td>RG-43035760</td>\n",
       "      <td>4031211372</td>\n",
       "      <td>2555 S STATE ST</td>\n",
       "      <td>2020-11-01</td>\n",
       "      <td>Actual</td>\n",
       "      <td>2020-10-10</td>\n",
       "      <td>2020-11-09</td>\n",
       "      <td>1573</td>\n",
       "      <td>1714</td>\n",
       "      <td>1.0000</td>\n",
       "      <td>141.0</td>\n",
       "      <td>75.26</td>\n",
       "    </tr>\n",
       "  </tbody>\n",
       "</table>\n",
       "</div>"
      ],
      "text/plain": [
       "                     Entity   CustomerId  MeterNumber           street  \\\n",
       "0  Ann Arbor Public Schools  RG-43035759   2110022691  2555 S STATE ST   \n",
       "1  Ann Arbor Public Schools  RG-43035760   4031211372  2555 S STATE ST   \n",
       "\n",
       "   ProdMonth EndReadType CycleStartDate CycleEndDate  BeginningReading  \\\n",
       "0 2020-11-01      Actual     2020-10-24   2020-11-24            922156   \n",
       "1 2020-11-01      Actual     2020-10-10   2020-11-09              1573   \n",
       "\n",
       "   EndReading  MeterMultiplier  FeeVolume  TotalCharges  \n",
       "0      938752           1.1195    18139.0       9679.92  \n",
       "1        1714           1.0000      141.0         75.26  "
      ]
     },
     "execution_count": 11,
     "metadata": {},
     "output_type": "execute_result"
    }
   ],
   "source": [
    "const.head(2)"
   ]
  },
  {
   "cell_type": "code",
   "execution_count": 12,
   "metadata": {},
   "outputs": [
    {
     "data": {
      "text/plain": [
       "2020-10-02    2\n",
       "2020-10-03    1\n",
       "2020-10-06    2\n",
       "2020-10-07    2\n",
       "2020-10-09    3\n",
       "             ..\n",
       "2022-01-29    1\n",
       "2022-02-01    1\n",
       "2022-02-02    1\n",
       "2022-02-04    1\n",
       "2022-02-08    1\n",
       "Name: Start Date\\n(Required), Length: 267, dtype: int64"
      ]
     },
     "execution_count": 12,
     "metadata": {},
     "output_type": "execute_result"
    }
   ],
   "source": [
    "up['Start Date\\n(Required)'].value_counts().sort_index()"
   ]
  },
  {
   "cell_type": "code",
   "execution_count": 13,
   "metadata": {},
   "outputs": [
    {
     "data": {
      "text/plain": [
       "2020-11-02    1\n",
       "2020-11-03    2\n",
       "2020-11-04    3\n",
       "2020-11-05    1\n",
       "2020-11-06    2\n",
       "             ..\n",
       "2022-03-01    1\n",
       "2022-03-02    1\n",
       "2022-03-03    1\n",
       "2022-03-04    1\n",
       "2022-03-07    1\n",
       "Name: End Date\\n(Required), Length: 272, dtype: int64"
      ]
     },
     "execution_count": 13,
     "metadata": {},
     "output_type": "execute_result"
    }
   ],
   "source": [
    "up['End Date\\n(Required)'].value_counts().sort_index()\n",
    "#just looking at these to make sure the time range makes sense"
   ]
  },
  {
   "cell_type": "markdown",
   "metadata": {},
   "source": [
    "We can see from the \"date\" value counts here that there aren't any extreme outliers in bill dates, all being within the past year or two so there don't seem to be any major typos here. "
   ]
  },
  {
   "cell_type": "code",
   "execution_count": 14,
   "metadata": {},
   "outputs": [],
   "source": [
    "#want to verify that manually entered ESPM meter names are in the correct format\n",
    "import re\n",
    "\n",
    "for meter in up['Meter Name\\n(Pre-filled)']:\n",
    "    if meter == 'Constellation__RG-43035789__248907587':\n",
    "        continue\n",
    "    assert re.match('Constellation__RG-[0-9]{6,8}__[0-9]{10}', meter), f\"{meter} is formatted wrong\""
   ]
  },
  {
   "cell_type": "code",
   "execution_count": 15,
   "metadata": {},
   "outputs": [
    {
     "data": {
      "text/plain": [
       "0.00        51\n",
       "2.00         1\n",
       "3.00         1\n",
       "5.00         2\n",
       "9.00         2\n",
       "            ..\n",
       "28689.01     1\n",
       "32556.02     1\n",
       "36776.00     1\n",
       "39571.00     1\n",
       "39874.00     1\n",
       "Name: Quantity\\n(Required), Length: 532, dtype: int64"
      ]
     },
     "execution_count": 15,
     "metadata": {},
     "output_type": "execute_result"
    }
   ],
   "source": [
    "up['Quantity\\n(Required)'].value_counts().sort_index()\n",
    "#verifying quantities aren't bizarre"
   ]
  }
 ],
 "metadata": {
  "kernelspec": {
   "display_name": "Python 3",
   "language": "python",
   "name": "python3"
  },
  "language_info": {
   "codemirror_mode": {
    "name": "ipython",
    "version": 3
   },
   "file_extension": ".py",
   "mimetype": "text/x-python",
   "name": "python",
   "nbconvert_exporter": "python",
   "pygments_lexer": "ipython3",
   "version": "3.8.8"
  }
 },
 "nbformat": 4,
 "nbformat_minor": 2
}
