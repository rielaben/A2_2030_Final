{
 "cells": [
  {
   "cell_type": "code",
   "execution_count": 1,
   "id": "5429f138-63ba-4b3b-b0d1-15441193c59d",
   "metadata": {},
   "outputs": [],
   "source": [
    "# going to need to pip install pandas, numpy, and openpyxl\n",
    "import pandas as pd\n",
    "import numpy as np\n",
    "from openpyxl.utils.dataframe import dataframe_to_rows\n",
    "from openpyxl import load_workbook"
   ]
  },
  {
   "cell_type": "code",
   "execution_count": 2,
   "id": "70a8b928",
   "metadata": {},
   "outputs": [],
   "source": [
    "# change quotes to fit the appropriate constellation and energystar files\n",
    "# energystar_excel_file = \"Empty_AAPS_Template.xlsx\"\n",
    "energystar_excel_file = \"Add_Bills_to_Meters_City_of_A2_Template.xlsx\"\n",
    "# constellation_data_file = \"AAPS_CONST.xlsx\"\n",
    "constellation_data_file = \"City of Ann Arbor (1).xlsx\""
   ]
  },
  {
   "cell_type": "code",
   "execution_count": 3,
   "id": "d09fa223",
   "metadata": {},
   "outputs": [
    {
     "name": "stderr",
     "output_type": "stream",
     "text": [
      "C:\\Users\\briel\\anaconda3\\lib\\site-packages\\openpyxl\\worksheet\\_reader.py:312: UserWarning: Data Validation extension is not supported and will be removed\n",
      "  warn(msg)\n"
     ]
    }
   ],
   "source": [
    "# this function creates an instance of an excel workbook where we can use openpyxl to edit the excel sheet directly\n",
    "def create_es_excel_wb(file_name):\n",
    "    es_workbook = load_workbook(filename=file_name)\n",
    "    sheet = es_workbook[\"Add Bills-Non Electric\"]\n",
    "    return es_workbook, sheet\n",
    "\n",
    "output_workbook, es_sheet = create_es_excel_wb(energystar_excel_file)"
   ]
  },
  {
   "cell_type": "code",
   "execution_count": 4,
   "id": "15e9fbe0",
   "metadata": {},
   "outputs": [],
   "source": [
    "# this funtion deletes rows from the excel sheet that do not start with the standardized naming convention of:\n",
    "# \"Constellation__[CustomerId]__[MeterNumber]__[Meter Description]\", with the __[Meter Description] part being optional\n",
    "def delete_idxs(populated_sheet):\n",
    "    delete_idxs = []\n",
    "    # this is a list containing all of the indexes of rows that don't start with \"Constellation__RG-\"\n",
    "    # we will delete all the rows with this index later\n",
    "    d_idx = 1\n",
    "    for row in populated_sheet.iter_rows():\n",
    "        # iterate through all rows of the populated excel sheet\n",
    "        meter_name = str(row[4].value)\n",
    "        # extract the value from the \"Meter Name (Pre-filled)\" column\n",
    "        if not meter_name.startswith(\"Constellation__RG-\"):\n",
    "            # if the meter name does not start with \"Constellation__RG-\" (for example 009300523), then we add this index to the list\n",
    "            delete_idxs.append(d_idx)\n",
    "        d_idx += 1\n",
    "    delete_idxs.reverse()\n",
    "    # now we reverse the list so we are deleting bottom-up\n",
    "    delete_idxs = delete_idxs[:-1]\n",
    "    # exclude the row with column headers (\"Meter ID (Pre-filled)\", \"Meter Consumption ID (Pre-filled)\", \"Portfolio Manager ID, (Pre-filled)\", etc.)\n",
    "    # display(delete_idxs)\n",
    "    for idx in delete_idxs:\n",
    "        # for each index, in this list, we delete the row with that index\n",
    "        populated_sheet.delete_rows(idx, amount=1)\n",
    "\n",
    "    return populated_sheet"
   ]
  },
  {
   "cell_type": "code",
   "execution_count": 5,
   "id": "820a568a",
   "metadata": {},
   "outputs": [],
   "source": [
    "es_sheet = delete_idxs(es_sheet)"
   ]
  },
  {
   "cell_type": "code",
   "execution_count": 6,
   "id": "9fce8220",
   "metadata": {},
   "outputs": [],
   "source": [
    "# this just confirms that the excel file looks correct before populating it with constellation data\n",
    "output_workbook.save(filename=\"test_file.xlsx\")"
   ]
  },
  {
   "cell_type": "code",
   "execution_count": 7,
   "id": "324a4faf",
   "metadata": {},
   "outputs": [],
   "source": [
    "# this converts the excel sheet into a dataframe, which we will later use to get the meter names\n",
    "data = es_sheet.values\n",
    "columns = next(data)[0:]\n",
    "es_deleted_df = pd.DataFrame(data, columns=columns)"
   ]
  },
  {
   "cell_type": "code",
   "execution_count": 8,
   "id": "f6de2f3e",
   "metadata": {},
   "outputs": [],
   "source": [
    "# this funtion performs data cleaning and manipulating tasks for the energystar file\n",
    "# the goal of this is to have a copy of the energystar data as a dataframe and (more importantly) a list of all of the unique meter names\n",
    "# from the energystar dataframe sheet. We will use this list of unique names later on\n",
    "def read_energystar_data(es_df):\n",
    "\n",
    "    es_df.columns = es_df.columns.str.replace('\\n', ' ')\n",
    "    # this gets the first part of the meter name before any commas (sometimes there would be a comma and unnessesary info after this)\n",
    "    es_df[\"Meter Name_temp\"] = es_df[\"Meter Name (Pre-filled)\"].str.split(\",\").str[0]\n",
    "\n",
    "    # then we filter this so the name matches our naming convention\n",
    "    # this version of the regex make it so you can have any number of digits after the \"RG-\" in the customerID from constellation\n",
    "    es_df[\"Meter Name_temp2\"] = es_df[\"Meter Name_temp\"][es_df[\"Meter Name_temp\"].str.contains(\"Constellation__RG-\\d+__\\d{10}(?:.+)?\") == True]\n",
    "\n",
    "    # if this regex version fails, then we can run this instead:\n",
    "    # es_df[\"Meter Name_temp2\"] = es_df[\"Meter Name_temp\"][es_df[\"Meter Name_temp\"].str.contains(\"Constellation__RG-\\d+__\\d{10}\") == True]\n",
    "    \n",
    "    # then we consolidate to get a unique list of all the meter names\n",
    "    es_data_meter_names = es_df[\"Meter Name_temp2\"].unique()\n",
    "    return es_df, es_data_meter_names"
   ]
  },
  {
   "cell_type": "code",
   "execution_count": 9,
   "id": "a8e02fea",
   "metadata": {},
   "outputs": [],
   "source": [
    "energystar_data, energystar_data_meter_names = read_energystar_data(es_deleted_df)"
   ]
  },
  {
   "cell_type": "code",
   "execution_count": 10,
   "id": "e26f2f4e",
   "metadata": {},
   "outputs": [],
   "source": [
    "# this funtion performs data cleaning and manipulating tasks for the constellation file\n",
    "def constellation_file_cleanup(file_name):\n",
    "    const_excel = pd.read_excel(file_name)\n",
    "    # use where function to say if reading is actual of estimated\n",
    "    const_excel['Actual Or Estimated'] = np.where(const_excel['EndReadType'] == \"Actual\", 'No', 'Yes')\n",
    "\n",
    "    # this function converts the constellation MeterNumber column into the Constellation__[CustomerId]__[MeterNumber] format\n",
    "    def name_helper(row):\n",
    "        row_id = str(row['CustomerId'])\n",
    "        row_number = str(row['MeterNumber'])\n",
    "        final_string = f\"Constellation__{row_id}__{row_number}\"\n",
    "        return final_string\n",
    "    const_excel['Const_Meter_ID'] = const_excel.apply(name_helper, axis=1)\n",
    "\n",
    "    # this is a list of dfs, each df holds constellation data for a unique meter in constellation\n",
    "    unique_meter_const = []\n",
    "    for unique_meter_name in const_excel['MeterNumber'].unique():\n",
    "        # display(unique_meter_name)\n",
    "        temp_df = const_excel[const_excel['MeterNumber'] == unique_meter_name]\n",
    "        # display(temp_df)  \n",
    "        unique_meter_const.append(temp_df)\n",
    "\n",
    "    return const_excel, unique_meter_const"
   ]
  },
  {
   "cell_type": "code",
   "execution_count": 11,
   "id": "9f3e38df",
   "metadata": {},
   "outputs": [],
   "source": [
    "constellation_excel, unique_meter_data_from_const = constellation_file_cleanup(constellation_data_file)"
   ]
  },
  {
   "cell_type": "markdown",
   "id": "6855edd9",
   "metadata": {},
   "source": [
    "This opens the excel file that we can edit directly:"
   ]
  },
  {
   "cell_type": "code",
   "execution_count": 12,
   "id": "1219ec06",
   "metadata": {},
   "outputs": [],
   "source": [
    "# this funtion populates the energystar excel spreadsheet with the data from constellation\n",
    "def populate_spreadsheet(const_dfs, es_meter_names, energystar_pop_sheet):\n",
    "    meters_set = set()\n",
    "    # this set will have all the unique meter names in the spreadsheet\n",
    "    for df in const_dfs:\n",
    "        # const_dfs is a list of dataframes. Each dataframe shows all of the constellation data from a unique meter\n",
    "        # so looping through this list of dataframes lets us examine each unique meter from constellation at a time\n",
    "        # and thus we will be adding this data to the energystar excel sheet with 1 meter from constellation's data at a time\n",
    "        for row in df.iterrows():\n",
    "            # row[0] is other information about the row, row[1] is the data itself\n",
    "            row_data = row[1]\n",
    "\n",
    "            if row_data['Const_Meter_ID'] not in es_meter_names:\n",
    "                # if th constellation meter id is not in the list of energystar meter names, then we skip to the next dataframe\n",
    "                # this means that there is a meter constellation took data on that is not in the energystar database\n",
    "                continue\n",
    "\n",
    "            # this copies the data for the row from constellation into variables like meter_number\n",
    "            meter_number = row_data['MeterNumber']\n",
    "            customer_id = row_data['CustomerId']\n",
    "            meter_string = f\"Constellation__{customer_id}__{meter_number}\"\n",
    "\n",
    "            start_date = row_data['CycleStartDate']\n",
    "            end_date = row_data['CycleEndDate']\n",
    "            # meter multiplier: can uncomment this later and use as needed\n",
    "            # meter_multiplier = row_data['MeterMultiplier']\n",
    "            fee_volume = row_data['FeeVolume']\n",
    "            total_charges = row_data['TotalCharges']\n",
    "            actual_estimated = row_data['Actual Or Estimated']\n",
    "\n",
    "            # start with index 1 because excel isn't 0-based\n",
    "            insert_index = 1\n",
    "            for row in energystar_pop_sheet.iter_rows():\n",
    "                # display(row[4].value)\n",
    "                # meter_name = str(row[4].value)\n",
    "                meter_name = row[4].value\n",
    "                # for each row in the energystar excel sheet, we first check to see if the energystar \"Meter Name (Pre-filled)\" column matches the constellation meter id\n",
    "                if meter_name == row_data['Const_Meter_ID']:\n",
    "                    # if we the energystar meter name matches the constllation meter name, then we found the right now in the energystar excel sheet and can now inserting the constellation data into this row\n",
    "                    # display([cell.value for cell in row])\n",
    "                    break\n",
    "                else:\n",
    "                    # if the name doesn't match, then we increase the insert index number because it means we need to look at the next row in the energystar table (the meter names didn't match, so we look at the next row in constellation)\n",
    "                    insert_index += 1\n",
    "            \n",
    "            insert_index += 1\n",
    "            # incrememnt the insert index by 1 to put our new row below the row with matching meter names\n",
    "            energystar_pop_sheet.insert_rows(insert_index, amount=1)\n",
    " \n",
    "            # now we enter data into this new row we just created\n",
    "            # there are some rows that are energystar specific (not included in the constellation reports). These are columns A, C, D, F, and J in the excel sheet\n",
    "            # for these we will simply copy the information from the row above, because we know the row above is a valid row that will be accepted into energystar\n",
    "            # The data from constellation that we want to transfer (like start_date, end_date, free_volumne, etc.) we enter into the matching columns in energystar \n",
    "            # (\"Start Date (Required)\", \"End Date (Required)\", \"Quantity (Required)\", etc.)\n",
    "            energystar_pop_sheet.cell(row=insert_index, column=1).value = energystar_pop_sheet[f\"A{insert_index-1}\"].value\n",
    "            # energystar_pop_sheet.cell(row=insert_index, column=2).value = energystar_pop_sheet[f\"B{insert_index-1}\"].value\n",
    "            energystar_pop_sheet.cell(row=insert_index, column=3).value = energystar_pop_sheet[f\"C{insert_index-1}\"].value\n",
    "            energystar_pop_sheet.cell(row=insert_index, column=4).value = energystar_pop_sheet[f\"D{insert_index-1}\"].value\n",
    "\n",
    "            # sheet.cell(row=insert_index, column=5).value = sheet[f\"E{insert_index-1}\"].value\n",
    "            energystar_pop_sheet.cell(row=insert_index, column=5).value = meter_string\n",
    "            energystar_pop_sheet.cell(row=insert_index, column=6).value = energystar_pop_sheet[f\"F{insert_index-1}\"].value\n",
    "            energystar_pop_sheet.cell(row=insert_index, column=7).value = start_date\n",
    "            energystar_pop_sheet.cell(row=insert_index, column=8).value = end_date\n",
    "            energystar_pop_sheet.cell(row=insert_index, column=9).value = fee_volume\n",
    "            energystar_pop_sheet.cell(row=insert_index, column=10).value = energystar_pop_sheet[f\"J{insert_index-1}\"].value\n",
    "            energystar_pop_sheet.cell(row=insert_index, column=11).value = total_charges\n",
    "            energystar_pop_sheet.cell(row=insert_index, column=12).value = actual_estimated\n",
    "\n",
    "            meters_set.add(meter_string)\n",
    "\n",
    "    return (meters_set, energystar_pop_sheet)"
   ]
  },
  {
   "cell_type": "code",
   "execution_count": 13,
   "id": "391e0787",
   "metadata": {},
   "outputs": [],
   "source": [
    "meters_set, es_sheet = populate_spreadsheet(unique_meter_data_from_const, energystar_data_meter_names, es_sheet)"
   ]
  },
  {
   "cell_type": "code",
   "execution_count": 14,
   "id": "148809fa",
   "metadata": {},
   "outputs": [],
   "source": [
    "output_workbook.save(filename=\"Output_file.xlsx\")"
   ]
  },
  {
   "cell_type": "code",
   "execution_count": 15,
   "id": "7c6ef602",
   "metadata": {},
   "outputs": [],
   "source": [
    "# uncomment below if you want to write all of the meter names as a set and export the file:\n",
    "\n",
    "# import json\n",
    "# with open('meter_set.txt', 'w') as f:\n",
    "#     f.write(str(meters_set))"
   ]
  }
 ],
 "metadata": {
  "kernelspec": {
   "display_name": "Python 3",
   "language": "python",
   "name": "python3"
  },
  "language_info": {
   "codemirror_mode": {
    "name": "ipython",
    "version": 3
   },
   "file_extension": ".py",
   "mimetype": "text/x-python",
   "name": "python",
   "nbconvert_exporter": "python",
   "pygments_lexer": "ipython3",
   "version": "3.8.8"
  }
 },
 "nbformat": 4,
 "nbformat_minor": 5
}
